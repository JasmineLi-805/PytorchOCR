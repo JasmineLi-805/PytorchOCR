{
 "metadata": {
  "language_info": {
   "codemirror_mode": {
    "name": "ipython",
    "version": 3
   },
   "file_extension": ".py",
   "mimetype": "text/x-python",
   "name": "python",
   "nbconvert_exporter": "python",
   "pygments_lexer": "ipython3",
   "version": "3.8.10"
  },
  "orig_nbformat": 4,
  "kernelspec": {
   "name": "python3",
   "display_name": "Python 3.8.10 64-bit ('py-ocr': conda)"
  },
  "interpreter": {
   "hash": "5bc338636104255bc478540995bdd21c062e01aaf631a569bc6df1c10de25082"
  }
 },
 "nbformat": 4,
 "nbformat_minor": 2,
 "cells": [
  {
   "cell_type": "code",
   "execution_count": 4,
   "metadata": {},
   "outputs": [],
   "source": [
    "import cv2\n",
    "import matplotlib.pyplot as plt\n",
    "import sys\n",
    "sys.path.append('/Users/jasmineli/Desktop/PytorchOCR/tools')\n",
    "from rec_infer import *"
   ]
  },
  {
   "cell_type": "code",
   "execution_count": 5,
   "metadata": {},
   "outputs": [],
   "source": [
    "def _get_stats(data, output_dir=None):\n",
    "    if VERBOSE:\n",
    "        print(f'start calculating accuracy...')\n",
    "    stats = {}\n",
    "    images = data['images']\n",
    "    targ = data['labels']\n",
    "    pred = data['pred']\n",
    "    pred = [p[0][0] for p in pred]\n",
    "    assert(len(pred) == len(targ))\n",
    "    correct_cnt = 0\n",
    "    blur_to_correct = {}\n",
    "    blur_to_miss = {}\n",
    "    for i in range(0, len(pred)):\n",
    "        # discard the chinese character up front\n",
    "        if pred[i][1:] == targ[i][1:]:\n",
    "            correct_cnt += 1\n",
    "        else:\n",
    "            if output_dir:\n",
    "                cv2.imwrite(filename=os.path.join(output_dir, pred[i] + '.jpg'), img=images[i])\n",
    "    stats['accuracy'] = 1.0 * correct_cnt / len(pred)\n",
    "    return stats"
   ]
  },
  {
   "cell_type": "code",
   "execution_count": 8,
   "metadata": {},
   "outputs": [
    {
     "output_type": "stream",
     "name": "stdout",
     "text": [
      "Starting...\n",
      "parsing image paths and annotations\n",
      "reading img path and labels...\n",
      "loading model...\n",
      "loading images...\n",
      "starting prediction...\n",
      "predicting 0th img out of 46957\n",
      "predicting 2000th img out of 46957\n",
      "predicting 4000th img out of 46957\n",
      "predicting 6000th img out of 46957\n",
      "predicting 8000th img out of 46957\n",
      "predicting 10000th img out of 46957\n",
      "predicting 12000th img out of 46957\n",
      "predicting 14000th img out of 46957\n",
      "predicting 16000th img out of 46957\n",
      "predicting 18000th img out of 46957\n",
      "predicting 20000th img out of 46957\n",
      "predicting 22000th img out of 46957\n",
      "predicting 24000th img out of 46957\n",
      "predicting 26000th img out of 46957\n",
      "predicting 28000th img out of 46957\n",
      "predicting 30000th img out of 46957\n",
      "predicting 32000th img out of 46957\n",
      "predicting 34000th img out of 46957\n",
      "predicting 36000th img out of 46957\n",
      "predicting 38000th img out of 46957\n",
      "predicting 40000th img out of 46957\n",
      "predicting 42000th img out of 46957\n",
      "predicting 44000th img out of 46957\n",
      "predicting 46000th img out of 46957\n",
      "completed label prediction\n",
      "start calculating accuracy...\n",
      "\n",
      "total # of images to predict: 46957; accuracy: 0.7560534105671146\n"
     ]
    }
   ],
   "source": [
    "'''\n",
    "Evaluate the effect of the first Chinese character on the original evalutation set\n",
    "'''\n",
    "data_info = '/Users/jasmineli/Desktop/PytorchOCR/ccpd-data/val.txt'\n",
    "model_path = '/Users/jasmineli/Desktop/PytorchOCR/output/CRNN/checkpoint/best.pth'\n",
    "\n",
    "print(f'Starting...')\n",
    "print(f'parsing image paths and annotations')\n",
    "data = get_images_and_label(data_info)\n",
    "print(f'loading model...')\n",
    "model = RecInfer(model_path)\n",
    "print(f'loading images...')\n",
    "data['images'] = [cv2.imread(img) for img in data['image_paths']]\n",
    "labels = data['labels']\n",
    "\n",
    "output_dir = None\n",
    "data['pred'] = model.predict(data['images'])\n",
    "stats = _get_stats(data, output_dir=None)\n",
    "accuracy = stats['accuracy']\n",
    "print(f'\\ntotal # of images to predict: {len(labels)}; accuracy: {accuracy}')"
   ]
  },
  {
   "cell_type": "code",
   "execution_count": null,
   "metadata": {},
   "outputs": [],
   "source": []
  }
 ]
}